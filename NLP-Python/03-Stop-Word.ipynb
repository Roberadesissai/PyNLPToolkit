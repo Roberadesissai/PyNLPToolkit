{
 "cells": [
  {
   "cell_type": "code",
   "execution_count": 1,
   "metadata": {},
   "outputs": [],
   "source": [
    "import spacy\n",
    "nlp = spacy.load('en_core_web_sm')"
   ]
  },
  {
   "cell_type": "code",
   "execution_count": 2,
   "metadata": {},
   "outputs": [
    {
     "name": "stdout",
     "output_type": "stream",
     "text": [
      "{'had', 'five', 'move', 'itself', 'full', 'each', 'be', 'please', 'must', 'front', '’re', 'always', 'in', 'while', 'ourselves', 'go', 'from', 'thru', '‘ve', '’ve', 'wherever', 'around', 'have', 'above', 'enough', 'together', 'again', 'has', '’d', '‘d', 'side', 'nevertheless', 'becoming', 'myself', 'twenty', 'quite', 'last', 'he', 'its', 'they', 'well', 'n’t', 'fifty', 'hence', 'over', 'was', 'so', 'yet', 'otherwise', 'yours', 'moreover', 'empty', 'below', 'thereby', 'anything', 'down', 'doing', 'on', 'are', 'seemed', 'after', 'to', 'done', 'did', 'beforehand', \"'m\", 'thereupon', 'can', 'us', 'various', 'already', 'anyhow', 'put', 'namely', 'fifteen', '‘re', 'there', 'nothing', 'beside', 'hereafter', 'you', 'everyone', 'thence', 'him', 'do', 'if', 'them', 'sometime', 'she', \"'ve\", 'neither', 'yourselves', \"'re\", 'see', 'more', 'show', 'we', 'most', 'alone', 'those', 'also', 'mostly', 'thus', 'further', 'behind', 'seeming', 'our', 'should', 'either', 'elsewhere', 'thereafter', 'not', 'latterly', '‘ll', 'really', 'get', 'call', 'hereby', 'another', 'some', 'part', 'seems', 'my', 'without', 'four', 'himself', 'whom', 'than', 'under', 'whereafter', 'therein', 'same', 'still', 'whereby', 'used', '‘s', 'much', 'take', 'nowhere', 'anyway', 'onto', 'this', \"'d\", 'every', 'any', 'may', 'here', 'among', 'too', 'seem', 'via', 'whereas', 'just', 'became', 'someone', 'others', 'whither', 'whatever', 'were', 'due', 'would', 'six', 'might', 'whoever', 'besides', 'several', 'throughout', 'themselves', 'make', 'between', 'ca', 'per', '‘m', 'when', 'very', 'somehow', 'upon', 'her', 'been', 'i', 'becomes', 'third', 'except', 'one', 'but', 'a', 'about', 'hereupon', 'sixty', 'though', \"n't\", 'then', 'none', 'keep', 'because', 'since', 'almost', 'until', 'meanwhile', 'twelve', 'although', 'nine', 'afterwards', 'once', 'noone', 'whence', 'during', 'will', 'whereupon', 'first', 'through', '’s', 'anywhere', 'is', 'rather', 'nor', 'ten', '’m', 'who', 'could', 'hundred', 'often', 'next', 'towards', 're', 'into', 'beyond', 'toward', 'as', 'against', 'made', 'being', 'however', 'for', 'less', 'where', 'bottom', 'what', 'wherein', 'of', 'these', 'does', 'with', 'their', 'indeed', 'whole', 'two', 'become', 'latter', 'therefore', 'somewhere', 'everywhere', 'formerly', \"'ll\", 'out', 'amongst', 'unless', 'perhaps', 'the', 'both', 'never', 'former', 'within', 'else', 'top', 'that', 'up', 'his', 'amount', '’ll', 'or', 'many', 'across', 'by', 'sometimes', 'hers', 'such', 'at', 'n‘t', 'back', 'no', 'name', 'am', 'using', 'now', 'give', 'own', 'anyone', 'eight', 'why', 'even', 'eleven', 'other', \"'s\", 'herself', 'all', 'three', 'whose', 'off', 'say', 'whether', 'something', 'least', 'nobody', 'and', 'your', 'mine', 'it', 'whenever', 'everything', 'me', 'few', 'along', 'cannot', 'forty', 'ever', 'which', 'before', 'how', 'herein', 'yourself', 'an', 'ours', 'serious', 'only', 'regarding'}\n"
     ]
    }
   ],
   "source": [
    "print(nlp.Defaults.stop_words)"
   ]
  },
  {
   "cell_type": "code",
   "execution_count": 3,
   "metadata": {},
   "outputs": [
    {
     "data": {
      "text/plain": [
       "326"
      ]
     },
     "execution_count": 3,
     "metadata": {},
     "output_type": "execute_result"
    }
   ],
   "source": [
    "len(nlp.Defaults.stop_words)"
   ]
  },
  {
   "cell_type": "code",
   "execution_count": 4,
   "metadata": {},
   "outputs": [
    {
     "data": {
      "text/plain": [
       "True"
      ]
     },
     "execution_count": 4,
     "metadata": {},
     "output_type": "execute_result"
    }
   ],
   "source": [
    "nlp.vocab['myself'].is_stop"
   ]
  },
  {
   "cell_type": "code",
   "execution_count": 5,
   "metadata": {},
   "outputs": [
    {
     "data": {
      "text/plain": [
       "False"
      ]
     },
     "execution_count": 5,
     "metadata": {},
     "output_type": "execute_result"
    }
   ],
   "source": [
    "nlp.vocab['mystery'].is_stop"
   ]
  },
  {
   "cell_type": "code",
   "execution_count": 6,
   "metadata": {},
   "outputs": [],
   "source": [
    "\n",
    "nlp.Defaults.stop_words.add('btw')"
   ]
  },
  {
   "cell_type": "code",
   "execution_count": 7,
   "metadata": {},
   "outputs": [],
   "source": [
    "\n",
    "nlp.vocab['btw'].is_stop = True"
   ]
  },
  {
   "cell_type": "code",
   "execution_count": 8,
   "metadata": {},
   "outputs": [
    {
     "data": {
      "text/plain": [
       "327"
      ]
     },
     "execution_count": 8,
     "metadata": {},
     "output_type": "execute_result"
    }
   ],
   "source": [
    "\n",
    "len(nlp.Defaults.stop_words)"
   ]
  },
  {
   "cell_type": "code",
   "execution_count": 11,
   "metadata": {},
   "outputs": [
    {
     "data": {
      "text/plain": [
       "True"
      ]
     },
     "execution_count": 11,
     "metadata": {},
     "output_type": "execute_result"
    }
   ],
   "source": [
    "\n",
    "nlp.vocab['btw'].is_stop"
   ]
  },
  {
   "cell_type": "code",
   "execution_count": null,
   "metadata": {},
   "outputs": [],
   "source": [
    "\n"
   ]
  }
 ],
 "metadata": {
  "kernelspec": {
   "display_name": "nlp_course",
   "language": "python",
   "name": "python3"
  },
  "language_info": {
   "codemirror_mode": {
    "name": "ipython",
    "version": 3
   },
   "file_extension": ".py",
   "mimetype": "text/x-python",
   "name": "python",
   "nbconvert_exporter": "python",
   "pygments_lexer": "ipython3",
   "version": "3.12.2"
  }
 },
 "nbformat": 4,
 "nbformat_minor": 2
}
