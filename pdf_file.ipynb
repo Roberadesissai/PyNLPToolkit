{
 "cells": [
  {
   "cell_type": "code",
   "execution_count": 32,
   "metadata": {},
   "outputs": [],
   "source": [
    "import PyPDF2\n",
    "from PyPDF2 import PdfReader\n",
    "from PyPDF2 import PdfMerger\n",
    "from PyPDF2 import PdfWriter\n",
    "from pdfminer.high_level import extract_text\n",
    "from pdfminer.layout import LAParams\n",
    "from reportlab.lib.pagesizes import letter\n",
    "from reportlab.pdfgen import canvas"
   ]
  },
  {
   "cell_type": "markdown",
   "metadata": {},
   "source": [
    "Reading from a PDF"
   ]
  },
  {
   "cell_type": "code",
   "execution_count": null,
   "metadata": {},
   "outputs": [],
   "source": [
    "import PyPDF2\n",
    "\n",
    "# Open the PDF file in binary mode\n",
    "with open('Business_Proposal.pdf', 'rb') as file:\n",
    "    # Create a PDF reader object\n",
    "    reader = PyPDF2.PdfReader(file)\n",
    "    \n",
    "    # Loop through each page and extract text\n",
    "    for page_num in range(len(reader.pages)):\n",
    "        page = reader.pages[page_num]\n",
    "        text = page.extract_text()\n",
    "        print(text)"
   ]
  },
  {
   "cell_type": "markdown",
   "metadata": {},
   "source": [
    "Merging PDFs"
   ]
  },
  {
   "cell_type": "code",
   "execution_count": null,
   "metadata": {},
   "outputs": [],
   "source": [
    "# Open the PDF file\n",
    "reader = PdfReader('Business_Proposal.pdf')\n",
    "\n",
    "# Iterate through all the pages and print their text\n",
    "for page in reader.pages:\n",
    "    print(page.extract_text())\n"
   ]
  },
  {
   "cell_type": "markdown",
   "metadata": {},
   "source": [
    "Writing to a PDF"
   ]
  },
  {
   "cell_type": "code",
   "execution_count": 19,
   "metadata": {},
   "outputs": [],
   "source": [
    "merger = PdfMerger()\n",
    "\n",
    "# Add the PDFs to merge\n",
    "merger.append('Business_Proposal.pdf')\n",
    "merger.append('Some_New_Doc.pdf')\n",
    "\n",
    "# Write out the merged PDF\n",
    "with open('merged.pdf', 'wb') as f_out:\n",
    "    merger.write(f_out)"
   ]
  },
  {
   "cell_type": "markdown",
   "metadata": {},
   "source": [
    "Extract Metadata"
   ]
  },
  {
   "cell_type": "code",
   "execution_count": 21,
   "metadata": {},
   "outputs": [
    {
     "name": "stdout",
     "output_type": "stream",
     "text": [
      "/Author Mike Brothers\n",
      "/Creator Microsoft® Word 2016\n",
      "/CreationDate D:20180911135422-04'00'\n",
      "/ModDate D:20180911135422-04'00'\n",
      "/Producer Microsoft® Word 2016\n"
     ]
    }
   ],
   "source": [
    "reader = PdfReader('Business_Proposal.pdf')\n",
    "metadata = reader.metadata\n",
    "for meta in metadata:\n",
    "    print(meta, metadata[meta])"
   ]
  },
  {
   "cell_type": "markdown",
   "metadata": {},
   "source": [
    "Get Number of Pages"
   ]
  },
  {
   "cell_type": "code",
   "execution_count": 22,
   "metadata": {},
   "outputs": [
    {
     "name": "stdout",
     "output_type": "stream",
     "text": [
      "Number of pages: 2\n"
     ]
    }
   ],
   "source": [
    "reader = PdfReader('Business_Proposal.pdf')\n",
    "num_pages = len(reader.pages)\n",
    "print(f\"Number of pages: {num_pages}\")"
   ]
  },
  {
   "cell_type": "markdown",
   "metadata": {},
   "source": [
    "Merge Specific Pages"
   ]
  },
  {
   "cell_type": "code",
   "execution_count": null,
   "metadata": {},
   "outputs": [],
   "source": [
    "merger = PdfMerger()\n",
    "merger.append('Business_Proposal.pdf', pages=(0, 1))  # Merge the first two pages"
   ]
  },
  {
   "cell_type": "code",
   "execution_count": 24,
   "metadata": {},
   "outputs": [],
   "source": [
    "merger = PdfMerger()\n",
    "merger.append('Business_Proposal.pdf', pages=(0, 1))  # Merge the first two pages\n",
    "merger.append('Some_New_Doc.pdf', pages=(0, 1))  # Merge the first two pages\n",
    "merger.write('merged.pdf')\n",
    "merger.close()\n",
    "\n"
   ]
  },
  {
   "cell_type": "markdown",
   "metadata": {},
   "source": [
    "Adding Bookmarks"
   ]
  },
  {
   "cell_type": "code",
   "execution_count": 26,
   "metadata": {},
   "outputs": [],
   "source": [
    "reader = PdfReader('Business_Proposal.pdf')\n",
    "writer = PdfWriter()\n",
    "\n",
    "# Copy all pages from reader to writer\n",
    "for page in reader.pages:\n",
    "    writer.add_page(page)\n",
    "\n",
    "# Add a bookmark to the first page\n",
    "writer.add_outline_item('First Page Bookmark', 0)  # Bookmark title and page number\n",
    "\n",
    "# Save the PDF with bookmarks\n",
    "with open('bookmarked.pdf', 'wb') as f_out:\n",
    "    writer.write(f_out)\n"
   ]
  },
  {
   "cell_type": "code",
   "execution_count": null,
   "metadata": {},
   "outputs": [],
   "source": [
    "# Define the path to your PDF\n",
    "pdf_path = 'Business_Proposal.pdf'\n",
    "\n",
    "# Use PDFMiner to extract text from the first page of the PDF\n",
    "text = extract_text(pdf_path, page_numbers=[0], laparams=LAParams())\n",
    "\n",
    "print(text)"
   ]
  },
  {
   "cell_type": "markdown",
   "metadata": {},
   "source": [
    "Basic PDF Creation:"
   ]
  },
  {
   "cell_type": "code",
   "execution_count": 36,
   "metadata": {},
   "outputs": [],
   "source": [
    "# Create a PDF file\n",
    "c = canvas.Canvas(\"hello.pdf\", pagesize=letter)\n",
    "\n",
    "# Add some text at coordinates (100, 750) from the bottom left corner\n",
    "c.drawString(100, 750, \"Hello, World!\")\n",
    "\n",
    "# Save the PDF\n",
    "c.save()"
   ]
  },
  {
   "cell_type": "markdown",
   "metadata": {},
   "source": [
    "Adding Graphics and Images"
   ]
  },
  {
   "cell_type": "code",
   "execution_count": 37,
   "metadata": {},
   "outputs": [],
   "source": [
    "def create_pdf_with_image(filename, image_path):\n",
    "    # Initialize the canvas\n",
    "    c = canvas.Canvas(filename)\n",
    "    \n",
    "    # Add some text\n",
    "    c.drawString(100, 750, \"Hello, World!\")\n",
    "    \n",
    "    # Add a rectangle\n",
    "    # c.rect(50, 700, 400, 50, fill=True)\n",
    "    \n",
    "    # Draw a line\n",
    "    c.line(50, 650, 450, 650)\n",
    "    \n",
    "    # Add an image\n",
    "    c.drawImage(image_path, 100, 500, width=200, height=150)\n",
    "    \n",
    "    # Finalize and save the document\n",
    "    c.save()  # Make sure this is called only once\n",
    "\n",
    "# Usage\n",
    "create_pdf_with_image(\"hello_image.pdf\", \"example_image.png\")"
   ]
  }
 ],
 "metadata": {
  "kernelspec": {
   "display_name": "nlp_course",
   "language": "python",
   "name": "python3"
  },
  "language_info": {
   "codemirror_mode": {
    "name": "ipython",
    "version": 3
   },
   "file_extension": ".py",
   "mimetype": "text/x-python",
   "name": "python",
   "nbconvert_exporter": "python",
   "pygments_lexer": "ipython3",
   "version": "3.12.2"
  }
 },
 "nbformat": 4,
 "nbformat_minor": 2
}
