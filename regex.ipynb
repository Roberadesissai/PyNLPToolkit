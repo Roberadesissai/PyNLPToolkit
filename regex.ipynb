{
 "cells": [
  {
   "cell_type": "code",
   "execution_count": 1,
   "metadata": {},
   "outputs": [],
   "source": [
    "import re"
   ]
  },
  {
   "cell_type": "markdown",
   "metadata": {},
   "source": [
    "Basic Operations"
   ]
  },
  {
   "cell_type": "code",
   "execution_count": 2,
   "metadata": {},
   "outputs": [
    {
     "name": "stdout",
     "output_type": "stream",
     "text": [
      "Found: World\n"
     ]
    }
   ],
   "source": [
    "text = \"Hello, World!\"\n",
    "match = re.search(r\"World\", text)\n",
    "if match:\n",
    "    print(\"Found:\", match.group())\n",
    "else:\n",
    "    print(\"Not found.\")"
   ]
  },
  {
   "cell_type": "markdown",
   "metadata": {},
   "source": [
    "Finding All Matches: re.findall()"
   ]
  },
  {
   "cell_type": "code",
   "execution_count": 3,
   "metadata": {},
   "outputs": [
    {
     "name": "stdout",
     "output_type": "stream",
     "text": [
      "['ain', 'ain']\n"
     ]
    }
   ],
   "source": [
    "text = \"The rain in Spain\"\n",
    "matches = re.findall(r\"ain\", text)\n",
    "print(matches)  # ['ain', 'ain']"
   ]
  },
  {
   "cell_type": "markdown",
   "metadata": {},
   "source": [
    "Splitting a String: re.split()"
   ]
  },
  {
   "cell_type": "code",
   "execution_count": 4,
   "metadata": {},
   "outputs": [
    {
     "name": "stdout",
     "output_type": "stream",
     "text": [
      "['The', 'rain', 'in', 'Spain']\n"
     ]
    }
   ],
   "source": [
    "text = \"The rain in Spain\"\n",
    "parts = re.split(r\"\\s\", text)  # Split at each whitespace\n",
    "print(parts)  # ['The', 'rain', 'in', 'Spain']\n"
   ]
  },
  {
   "cell_type": "markdown",
   "metadata": {},
   "source": [
    "Replacing Text: re.sub()"
   ]
  },
  {
   "cell_type": "code",
   "execution_count": 5,
   "metadata": {},
   "outputs": [
    {
     "name": "stdout",
     "output_type": "stream",
     "text": [
      "The rain in France\n"
     ]
    }
   ],
   "source": [
    "text = \"The rain in Spain\"\n",
    "new_text = re.sub(r\"Spain\", \"France\", text)\n",
    "print(new_text)  # The rain in France\n"
   ]
  },
  {
   "cell_type": "markdown",
   "metadata": {},
   "source": [
    "Pattern Syntax"
   ]
  },
  {
   "cell_type": "code",
   "execution_count": 6,
   "metadata": {},
   "outputs": [
    {
     "name": "stdout",
     "output_type": "stream",
     "text": [
      "('123', '456', '7890')\n",
      "Area code: 123\n"
     ]
    }
   ],
   "source": [
    "text = \"My number is 123-456-7890.\"\n",
    "match = re.search(r\"(\\d{3})-(\\d{3})-(\\d{4})\", text)\n",
    "if match:\n",
    "    print(match.groups())  # ('123', '456', '7890')\n",
    "    print(\"Area code:\", match.group(1))  # Area code: 123"
   ]
  },
  {
   "cell_type": "markdown",
   "metadata": {},
   "source": [
    "Flags"
   ]
  },
  {
   "cell_type": "code",
   "execution_count": 7,
   "metadata": {},
   "outputs": [
    {
     "name": "stdout",
     "output_type": "stream",
     "text": [
      "Found: world\n"
     ]
    }
   ],
   "source": [
    "text = \"hello world\"\n",
    "match = re.search(r\"WORLD\", text, re.IGNORECASE)\n",
    "if match:\n",
    "    print(\"Found:\", match.group())  # Found: world\n"
   ]
  },
  {
   "cell_type": "markdown",
   "metadata": {},
   "source": [
    "Basic Date Pattern Matching"
   ]
  },
  {
   "cell_type": "code",
   "execution_count": 8,
   "metadata": {},
   "outputs": [
    {
     "name": "stdout",
     "output_type": "stream",
     "text": [
      "['14/03/2024', '12-02-2024', '2024/04/16']\n"
     ]
    }
   ],
   "source": [
    "text = \"Today's date is 14/03/2024. The previous meeting was on 12-02-2024, and the next one will be on 2024/04/16.\"\n",
    "\n",
    "# Pattern to match the dates\n",
    "pattern = r\"\\b(?:\\d{2}[-/]\\d{2}[-/]\\d{4}|\\d{4}/\\d{2}/\\d{2})\\b\"\n",
    "\n",
    "dates = re.findall(pattern, text)\n",
    "print(dates)  # ['14/03/2024', '12-02-2024', '2024/04/16']"
   ]
  },
  {
   "cell_type": "markdown",
   "metadata": {},
   "source": [
    "Advanced Date Extraction"
   ]
  },
  {
   "cell_type": "code",
   "execution_count": 9,
   "metadata": {},
   "outputs": [
    {
     "name": "stdout",
     "output_type": "stream",
     "text": [
      "Day: 14, Month: 03, Year: 2024\n",
      "Day: 12, Month: 02, Year: 2024\n",
      "Day: 16, Month: 04, Year: 2024\n"
     ]
    }
   ],
   "source": [
    "pattern = r\"\\b(?:(\\d{2})[-/](\\d{2})[-/](\\d{4})|(\\d{4})/(\\d{2})/(\\d{2}))\\b\"\n",
    "\n",
    "matches = re.finditer(pattern, text)\n",
    "for match in matches:\n",
    "    # Check which format was matched\n",
    "    if match.group(1):  # DD-MM-YYYY or DD/MM/YYYY\n",
    "        day, month, year = match.group(1, 2, 3)\n",
    "    else:  # YYYY/MM/DD\n",
    "        year, month, day = match.group(4, 5, 6)\n",
    "    \n",
    "    print(f\"Day: {day}, Month: {month}, Year: {year}\")\n"
   ]
  },
  {
   "cell_type": "markdown",
   "metadata": {},
   "source": [
    "Handling Different Date Formats with Named Groups"
   ]
  },
  {
   "cell_type": "code",
   "execution_count": 10,
   "metadata": {},
   "outputs": [
    {
     "name": "stdout",
     "output_type": "stream",
     "text": [
      "Day: 14, Month: 03, Year: 2024\n",
      "Day: 12, Month: 02, Year: 2024\n",
      "Day: 16, Month: 04, Year: 2024\n"
     ]
    }
   ],
   "source": [
    "pattern = r\"\\b(?:\"\n",
    "pattern += r\"(?P<day>\\d{2})[-/](?P<month>\\d{2})[-/](?P<year>\\d{4})\"  # DD-MM-YYYY or DD/MM/YYYY\n",
    "pattern += r\"|\"\n",
    "pattern += r\"(?P<year2>\\d{4})/(?P<month2>\\d{2})/(?P<day2>\\d{2})\"  # YYYY/MM/DD\n",
    "pattern += r\")\\b\"\n",
    "\n",
    "matches = re.finditer(pattern, text)\n",
    "for match in matches:\n",
    "    # Extract using named groups\n",
    "    day = match.group('day') or match.group('day2')\n",
    "    month = match.group('month') or match.group('month2')\n",
    "    year = match.group('year') or match.group('year2')\n",
    "    \n",
    "    print(f\"Day: {day}, Month: {month}, Year: {year}\")\n"
   ]
  },
  {
   "cell_type": "markdown",
   "metadata": {},
   "source": [
    "Validating Date Formats"
   ]
  },
  {
   "cell_type": "code",
   "execution_count": 11,
   "metadata": {},
   "outputs": [
    {
     "name": "stdout",
     "output_type": "stream",
     "text": [
      "True\n",
      "True\n"
     ]
    }
   ],
   "source": [
    "def validate_date(date_str):\n",
    "    # Matches DD-MM-YYYY, DD/MM/YYYY, YYYY/MM/DD\n",
    "    pattern = r\"^(?:(\\d{2})[-/](\\d{2})[-/](\\d{4})|(\\d{4})/(\\d{2})/(\\d{2}))$\"\n",
    "    return bool(re.match(pattern, date_str))\n",
    "\n",
    "print(validate_date(\"31-02-2024\"))  # False - February doesn't have 31 days\n",
    "print(validate_date(\"15/03/2024\"))  # True\n"
   ]
  },
  {
   "cell_type": "markdown",
   "metadata": {},
   "source": [
    "Common Patterns Examples"
   ]
  },
  {
   "cell_type": "code",
   "execution_count": 26,
   "metadata": {},
   "outputs": [
    {
     "name": "stdout",
     "output_type": "stream",
     "text": [
      "['example@test.com']\n",
      "['http://www.example.com']\n",
      "['14-03-2024']\n",
      "['(123) 456-7890']\n"
     ]
    }
   ],
   "source": [
    "# Emails\n",
    "print(re.findall(r\"\\b[A-Za-z0-9._%+-]+@[A-Za-z0-9.-]+\\.[A-Z|a-z]{2,}\\b\", \"My email is example@test.com.\"))\n",
    "\n",
    "# URLs\n",
    "print(re.findall(r\"https?://(?:www\\.)?[-a-zA-Z0-9@:%._\\+~#=]{2,256}\\.[a-z]{2,6}\\b(?:[-a-zA-Z0-9@:%_\\+.~#?&//=]*)\", \"Visit http://www.example.com\"))\n",
    "\n",
    "# Dates (DD-MM-YYYY)\n",
    "print(re.findall(r\"\\b\\d{2}[-/]\\d{2}[-/]\\d{4}\\b\", \"Today is 14-03-2024.\"))\n",
    "\n",
    "# Phone Numbers ((123) 456-7890)\n",
    "print(re.findall(r\"\\(\\d{3}\\) \\d{3}-\\d{4}\", \"Call me at (123) 456-7890.\"))\n"
   ]
  }
 ],
 "metadata": {
  "kernelspec": {
   "display_name": "nlp_course",
   "language": "python",
   "name": "python3"
  },
  "language_info": {
   "codemirror_mode": {
    "name": "ipython",
    "version": 3
   },
   "file_extension": ".py",
   "mimetype": "text/x-python",
   "name": "python",
   "nbconvert_exporter": "python",
   "pygments_lexer": "ipython3",
   "version": "3.12.2"
  }
 },
 "nbformat": 4,
 "nbformat_minor": 2
}
