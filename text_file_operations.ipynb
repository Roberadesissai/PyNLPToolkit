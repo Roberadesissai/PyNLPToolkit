{
 "cells": [
  {
   "cell_type": "code",
   "execution_count": 14,
   "metadata": {},
   "outputs": [],
   "source": [
    "import csv\n",
    "import datetime"
   ]
  },
  {
   "cell_type": "code",
   "execution_count": 5,
   "metadata": {},
   "outputs": [
    {
     "name": "stdout",
     "output_type": "stream",
     "text": [
      "Once upon a time, in a world not too different from our own, there was a store unlike any other. This store, known as 'AI Emporium', was a haven for all things related to artificial intelligence.\n",
      "The store was filled with cutting-edge AI technologies, from smart home devices to advanced robotics. Customers would flock to AI Emporium to explore the latest innovations and experience the wonders of AI firsthand.\n",
      "The store's shelves were lined with state-of-the-art AI assistants, capable of understanding natural language and performing complex tasks. These assistants could help with everything from scheduling appointments to answering trivia questions.\n",
      "AI Emporium also had a dedicated section for AI-powered healthcare devices. Customers could find wearable devices that monitored their health in real-time, providing valuable insights and alerts. The store even had AI-powered robots that could assist with medical procedures, revolutionizing the field of healthcare.\n",
      "But AI Emporium wasn't just about selling products. It was a place where people could learn and explore the possibilities of AI. The store hosted regular workshops and seminars, where experts in the field would share their knowledge and inspire others to embrace AI.\n",
      "As the story goes, AI Emporium became more than just a store. It became a symbol of the AI revolution, a place where dreams turned into reality. People from all walks of life would visit the store, eager to witness the power of AI and envision a future where technology and humanity coexist harmoniously.\n",
      "And so, the story of AI Emporium continues, with each passing day bringing new advancements and discoveries. The store remains a beacon of innovation, reminding us of the incredible potential of artificial intelligence.\n",
      "\n"
     ]
    }
   ],
   "source": [
    "# Open the file in read mode\n",
    "with open('sample.txt', 'r') as file:\n",
    "    # Read the entire contents of the file\n",
    "    contents = file.read()\n",
    "    print(contents)"
   ]
  },
  {
   "cell_type": "code",
   "execution_count": 6,
   "metadata": {},
   "outputs": [],
   "source": [
    "# Open the file in write mode\n",
    "with open('output.txt', 'w') as file:\n",
    "    # Write text to the file\n",
    "    file.write('Hello, world!\\n')\n",
    "    file.write('This is a sample text file.\\n')\n"
   ]
  },
  {
   "cell_type": "code",
   "execution_count": 7,
   "metadata": {},
   "outputs": [],
   "source": [
    "# Open the file in append mode\n",
    "with open('output.txt', 'a') as file:\n",
    "    # Append text to the file\n",
    "    file.write('Appending new content.\\n')\n"
   ]
  },
  {
   "cell_type": "code",
   "execution_count": 9,
   "metadata": {},
   "outputs": [
    {
     "name": "stdout",
     "output_type": "stream",
     "text": [
      "['Name', 'Age', 'Country']\n",
      "['John', '30', 'USA']\n"
     ]
    }
   ],
   "source": [
    "# Writing to a CSV file\n",
    "with open('data.csv', 'w', newline='') as csvfile:\n",
    "    writer = csv.writer(csvfile)\n",
    "    writer.writerow(['Name', 'Age', 'Country'])\n",
    "    writer.writerow(['John', 30, 'USA'])\n",
    "\n",
    "# Reading from a CSV file\n",
    "with open('data.csv', 'r') as csvfile:\n",
    "    reader = csv.reader(csvfile)\n",
    "    for row in reader:\n",
    "        print(row)"
   ]
  },
  {
   "cell_type": "code",
   "execution_count": 11,
   "metadata": {},
   "outputs": [
    {
     "name": "stdout",
     "output_type": "stream",
     "text": [
      "Current Date and Time: 2024-03-14 23:37:13.057325\n",
      "Formatted Date and Time: 2024-03-14 23:37:13\n",
      "Custom Date and Time: 2024-03-14 12:30:00\n"
     ]
    }
   ],
   "source": [
    "import datetime\n",
    "\n",
    "# Get the current date and time\n",
    "current_datetime = datetime.datetime.now()\n",
    "print(\"Current Date and Time:\", current_datetime)\n",
    "\n",
    "# Format the datetime object\n",
    "formatted_datetime = current_datetime.strftime(\"%Y-%m-%d %H:%M:%S\")\n",
    "print(\"Formatted Date and Time:\", formatted_datetime)\n",
    "\n",
    "# Create a datetime object for a specific date and time\n",
    "custom_datetime = datetime.datetime(2024, 3, 14, 12, 30, 0)\n",
    "print(\"Custom Date and Time:\", custom_datetime)\n"
   ]
  },
  {
   "cell_type": "code",
   "execution_count": 12,
   "metadata": {},
   "outputs": [
    {
     "name": "stdout",
     "output_type": "stream",
     "text": [
      "Current Date: 2024-03-14\n",
      "Future Date: 2024-03-21\n",
      "Past Date: 2024-03-11\n"
     ]
    }
   ],
   "source": [
    "# Get the current date\n",
    "current_date = datetime.date.today()\n",
    "print(\"Current Date:\", current_date)\n",
    "\n",
    "# Add 7 days to the current date\n",
    "future_date = current_date + datetime.timedelta(days=7)\n",
    "print(\"Future Date:\", future_date)\n",
    "\n",
    "# Subtract 3 days from the current date\n",
    "past_date = current_date - datetime.timedelta(days=3)\n",
    "print(\"Past Date:\", past_date)\n"
   ]
  },
  {
   "cell_type": "code",
   "execution_count": 13,
   "metadata": {},
   "outputs": [
    {
     "name": "stdout",
     "output_type": "stream",
     "text": [
      "Current Timestamp: 1710473916.051049\n",
      "Datetime from Timestamp: 2022-03-14 16:00:00\n"
     ]
    }
   ],
   "source": [
    "# Get the current timestamp\n",
    "current_timestamp = datetime.datetime.timestamp(datetime.datetime.now())\n",
    "print(\"Current Timestamp:\", current_timestamp)\n",
    "\n",
    "# Convert a timestamp to a datetime object\n",
    "timestamp = 1647288000  # Example timestamp\n",
    "datetime_from_timestamp = datetime.datetime.fromtimestamp(timestamp)\n",
    "print(\"Datetime from Timestamp:\", datetime_from_timestamp)"
   ]
  }
 ],
 "metadata": {
  "kernelspec": {
   "display_name": "Python 3",
   "language": "python",
   "name": "python3"
  },
  "language_info": {
   "codemirror_mode": {
    "name": "ipython",
    "version": 3
   },
   "file_extension": ".py",
   "mimetype": "text/x-python",
   "name": "python",
   "nbconvert_exporter": "python",
   "pygments_lexer": "ipython3",
   "version": "3.12.2"
  }
 },
 "nbformat": 4,
 "nbformat_minor": 2
}
